{
 "cells": [
  {
   "cell_type": "code",
   "execution_count": null,
   "metadata": {},
   "outputs": [],
   "source": [
    "import pandas as pd\n",
    "import numpy as np\n",
    "import pymysql\n",
    "from sqlalchemy import create_engine\n",
    "import getpass  \n",
    "\n",
    "def get_engine():\n",
    "    password = getpass.getpass()\n",
    "    bd = \"sakila\"\n",
    "    connection_string = 'mysql+pymysql://root:' + password + '@localhost/' + bd\n",
    "    engine = create_engine(connection_string)\n",
    "    return engine"
   ]
  },
  {
   "cell_type": "code",
   "execution_count": null,
   "metadata": {},
   "outputs": [],
   "source": [
    "def rentals_month(engine, month, year):\n",
    "    query = f\"\"\"\n",
    "    SELECT *\n",
    "    FROM rental\n",
    "    WHERE MONTH(rental_date) = {month}\n",
    "    AND YEAR(rental_date) = {year}\n",
    "    \"\"\"\n",
    "    \n",
    "    df = pd.read_sql(query, engine)\n",
    "    return df"
   ]
  },
  {
   "cell_type": "code",
   "execution_count": null,
   "metadata": {},
   "outputs": [],
   "source": [
    "\n",
    "def rental_count_month(df, month, year):\n",
    "    counts = df.groupby('customer_id').size().reset_index(name=f'rentals_{month:02d}_{year}')\n",
    "    \n",
    "    return counts"
   ]
  },
  {
   "cell_type": "code",
   "execution_count": null,
   "metadata": {},
   "outputs": [],
   "source": [
    "def compare_rentals(df1, df2):\n",
    "    merged = pd.merge(df1, df2, on='customer_id', how='inner')\n",
    "    \n",
    "    col1 = df1.columns[1]\n",
    "    col2 = df2.columns[1]\n",
    "    \n",
    "    merged['difference'] = merged[col2] - merged[col1]\n",
    "    \n",
    "    return merged"
   ]
  }
 ],
 "metadata": {
  "kernelspec": {
   "display_name": "Python 3",
   "language": "python",
   "name": "python3"
  },
  "language_info": {
   "name": "python",
   "version": "3.8.5"
  }
 },
 "nbformat": 4,
 "nbformat_minor": 2
}
